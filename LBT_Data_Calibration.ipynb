{
 "cells": [
  {
   "cell_type": "code",
   "execution_count": 1,
   "metadata": {},
   "outputs": [],
   "source": [
    "import os\n",
    "import numpy as np\n",
    "import glob\n",
    "import pickle\n",
    "import matplotlib.pyplot as plt\n",
    "from numpy.polynomial import chebyshev\n",
    "from scipy.ndimage import gaussian_filter1d\n",
    "from mpl_toolkits.axes_grid1.inset_locator import mark_inset\n",
    "from scipy.interpolate import interp1d\n",
    "\n",
    "# Libraries for plotting, reading data:\n",
    "import seaborn as sns \n",
    "sns.set_style(\"ticks\") # Set seaborn \"ticks\" style for better styled plots\n",
    "from astropy.io import fits\n",
    "from astropy.utils.data import download_file\n",
    "# Library for some power-spectral density analysis:\n",
    "from astropy.timeseries import LombScargle\n",
    "\n",
    "# Corner (for posterior distribution plotting):\n",
    "import corner\n",
    "# Juliet (for transit fitting & model evaluation:)\n",
    "import juliet"
   ]
  },
  {
   "cell_type": "code",
   "execution_count": 2,
   "metadata": {},
   "outputs": [],
   "source": [
    "# Read in data and calibration files\n",
    "data_files = sorted(glob.glob(\"LBT-HAT-P-19/*.fits\"))\n",
    "calibration_files = sorted(glob.glob(\"LBT-HAT-P-19/calibration/*.fits\"))"
   ]
  },
  {
   "cell_type": "code",
   "execution_count": 3,
   "metadata": {},
   "outputs": [],
   "source": [
    "# function to categorize the calibration files into lamp, flat, and bias\n",
    "def categorize_calibration(cal_files):\n",
    "    lamp_calibration = []\n",
    "    flat_calibration = []\n",
    "    bias_calibration = []\n",
    "    \n",
    "    for i in cal_files:\n",
    "        data, header = fits.getdata(i, header=True)\n",
    "        \n",
    "        if header[\"MASKNAME\"] == \"ID582153\":\n",
    "            lamp_calibration.append(i)\n",
    "\n",
    "        elif header[\"MASKNAME\"] == \"ID583213\":\n",
    "            flat_calibration.append(i)\n",
    "\n",
    "        elif header[\"IMAGETYP\"] == \"BIAS\":  # tested: if header[\"IMAGETYP\"] == \"BIAS\" then [\"MASKNAME\"] == \"SIEVEMASK\"\n",
    "            bias_calibration.append(i)\n",
    "\n",
    "    return lamp_calibration, flat_calibration, bias_calibration"
   ]
  },
  {
   "cell_type": "code",
   "execution_count": 4,
   "metadata": {},
   "outputs": [],
   "source": [
    "# function to categorize the lamp files by instrument\n",
    "def categorize_lamp(lamp_files):\n",
    "    lamp_m1b = []\n",
    "    lamp_m2b = []\n",
    "    lamp_m1r = []\n",
    "    lamp_m2r = []\n",
    "    \n",
    "    for i in lamp_files:\n",
    "        data, header = fits.getdata(i, header=True)\n",
    "        \n",
    "        if header[\"INSTRUME\"] == \"MODS1B\":\n",
    "            lamp_m1b.append(i)\n",
    "\n",
    "        elif header[\"INSTRUME\"] == \"MODS2B\":\n",
    "            lamp_m2b.append(i)\n",
    "\n",
    "        elif header[\"INSTRUME\"] == \"MODS1R\":\n",
    "            lamp_m1r.append(i)\n",
    "            \n",
    "        elif header[\"INSTRUME\"] == \"MODS2R\":\n",
    "            lamp_m2r.append(i)\n",
    "\n",
    "    return lamp_m1b, lamp_m2b, lamp_m1r, lamp_m2r"
   ]
  },
  {
   "cell_type": "code",
   "execution_count": 5,
   "metadata": {},
   "outputs": [],
   "source": [
    "# function to categorize the bias files by instrument and take the median of the frames\n",
    "def categorize_bias_median(bias_files):\n",
    "    bias_m1b = []\n",
    "    bias_m2b = []\n",
    "    bias_m1r = []\n",
    "    bias_m2r = []\n",
    "    \n",
    "    for i in bias_files:\n",
    "        data, header = fits.getdata(i, header=True)\n",
    "        \n",
    "        if header[\"INSTRUME\"] == \"MODS1B\":\n",
    "            bias_m1b.append(data)\n",
    "\n",
    "        elif header[\"INSTRUME\"] == \"MODS2B\":\n",
    "            bias_m2b.append(data)\n",
    "\n",
    "        elif header[\"INSTRUME\"] == \"MODS1R\":\n",
    "            bias_m1r.append(data)\n",
    "            \n",
    "        elif header[\"INSTRUME\"] == \"MODS2R\":\n",
    "            bias_m2r.append(data)\n",
    "\n",
    "    ave_bias_m1b = np.median(bias_m1b, axis=0)\n",
    "    ave_bias_m2b = np.median(bias_m2b, axis=0)\n",
    "    ave_bias_m1r = np.median(bias_m1r, axis=0)\n",
    "    ave_bias_m2r = np.median(bias_m2r, axis=0)\n",
    "    \n",
    "    return ave_bias_m1b, ave_bias_m2b, ave_bias_m1r, ave_bias_m2r"
   ]
  },
  {
   "cell_type": "code",
   "execution_count": 6,
   "metadata": {},
   "outputs": [],
   "source": [
    "# function to categorize the flat files by instrument, subtract the master bias frame corresponding to the instrument\n",
    "# and then take the median of the frames\n",
    "def categorize_flat_median(flat_files, bias_m1b, bias_m2b, bias_m1r, bias_m2r):\n",
    "    flat_m1b = []\n",
    "    flat_m2b = []\n",
    "    flat_m1r = []\n",
    "    flat_m2r = []\n",
    "    \n",
    "    for i in flat_files:\n",
    "        data, header = fits.getdata(i, header=True)\n",
    "        \n",
    "        if header[\"INSTRUME\"] == \"MODS1B\":\n",
    "            flat_m1b.append(data)\n",
    "\n",
    "        elif header[\"INSTRUME\"] == \"MODS2B\":\n",
    "            flat_m2b.append(data)\n",
    "\n",
    "        elif header[\"INSTRUME\"] == \"MODS1R\":\n",
    "            flat_m1r.append(data)\n",
    "            \n",
    "        elif header[\"INSTRUME\"] == \"MODS2R\":\n",
    "            flat_m2r.append(data)\n",
    "\n",
    "    m1b_sub = flat_m1b-bias_m1b\n",
    "    m2b_sub = flat_m2b-bias_m2b\n",
    "    m1r_sub = flat_m1r-bias_m1r\n",
    "    m2r_sub = flat_m2r-bias_m2r\n",
    "       \n",
    "    ave_flat_m1b = np.median(m1b_sub, axis=0)\n",
    "    ave_flat_m2b = np.median(m2b_sub, axis=0)\n",
    "    ave_flat_m1r = np.median(m1r_sub, axis=0)\n",
    "    ave_flat_m2r = np.median(m2r_sub, axis=0)\n",
    "    \n",
    "    return ave_flat_m1b, ave_flat_m2b, ave_flat_m1r, ave_flat_m2r"
   ]
  },
  {
   "cell_type": "code",
   "execution_count": 7,
   "metadata": {},
   "outputs": [],
   "source": [
    "# 1. create master bias frame (median of all bias frames)\n",
    "# 2. subtract master bias frame from all data frames and all flat frames\n",
    "# 3. create master flat frame as the median of bias-subtracted flat frames\n",
    "# 4. divide the data frames by the master flat frame\n",
    "\n",
    "def calibrate_data(data_files, calibration_files): # not currently using the data files yet, just setting up cal files\n",
    "    lamp, flat, bias = categorize_calibration(calibration_files)\n",
    "    bias_m1b, bias_m2b, bias_m1r, bias_m2r = categorize_bias_median(bias)\n",
    "    flat_m1b, flat_m2b, flat_m1r, flat_m2r = categorize_flat_median(flat, bias_m1b, bias_m2b, bias_m1r, bias_m2r)\n",
    "    lamp_m1b, lamp_m2b, lamp_m1r, lamp_m2r = categorize_lamp(lamp)\n",
    "    \n",
    "    # will return a dictionary with the instrument attached to: the master bias, the master flat, \n",
    "    # and the list of lamps for that instrument (don't know what to do with the lamps yet)\n",
    "    calibrate_dict = {\n",
    "        \"m1b\":[bias_m1b, flat_m1b, lamp_m1b],\n",
    "        \"m2b\":[bias_m2b, flat_m2b, lamp_m2b],\n",
    "        \"m1r\":[bias_m1r, flat_m1r, lamp_m1r],\n",
    "        \"m2r\":[bias_m2r, flat_m2r, lamp_m2r]\n",
    "    }\n",
    "    \n",
    "    return(calibrate_dict)"
   ]
  },
  {
   "cell_type": "code",
   "execution_count": 58,
   "metadata": {},
   "outputs": [],
   "source": [
    "def flat_errors_calc(flat_files, bias_m1b, bias_m2b, bias_m1r, bias_m2r): # finding the errors on the flat frames\n",
    "    flat_m1b = []\n",
    "    flat_m2b = []\n",
    "    flat_m1r = []\n",
    "    flat_m2r = []\n",
    "    \n",
    "    for i in flat_files:\n",
    "        data, header = fits.getdata(i, header=True)\n",
    "        \n",
    "        if header[\"INSTRUME\"] == \"MODS1B\":\n",
    "            flat_m1b.append(data)\n",
    "\n",
    "        elif header[\"INSTRUME\"] == \"MODS2B\":\n",
    "            flat_m2b.append(data)\n",
    "\n",
    "        elif header[\"INSTRUME\"] == \"MODS1R\":\n",
    "            flat_m1r.append(data)\n",
    "            \n",
    "        elif header[\"INSTRUME\"] == \"MODS2R\":\n",
    "            flat_m2r.append(data)\n",
    "\n",
    "    m1b_sub = flat_m1b-bias_m1b\n",
    "    m2b_sub = flat_m2b-bias_m2b\n",
    "    m1r_sub = flat_m1r-bias_m1r\n",
    "    m2r_sub = flat_m2r-bias_m2r\n",
    "    \n",
    "    m1b_sub_norm = []\n",
    "    m2b_sub_norm = []\n",
    "    m1r_sub_norm = []\n",
    "    m2r_sub_norm = []\n",
    "    \n",
    "    for i in range(len(m1b_sub)): # there is the same number of flat files for all the instruments\n",
    "        m1b_norm = m1b_sub[i]/np.median(m1b_sub[i])\n",
    "        m1b_sub_norm.append(m1b_norm)\n",
    "        \n",
    "        m2b_norm = m2b_sub[i]/np.median(m2b_sub[i])\n",
    "        m2b_sub_norm.append(m1b_norm)\n",
    "        \n",
    "        m1r_norm = m1r_sub[i]/np.median(m1r_sub[i])\n",
    "        m1r_sub_norm.append(m1b_norm)\n",
    "        \n",
    "        m2r_norm = m2r_sub[i]/np.median(m2r_sub[i])\n",
    "        m2r_sub_norm.append(m1b_norm)\n",
    "        \n",
    "        \n",
    "    m1b_flat_norm_med = np.median(m1b_sub_norm, axis=0) # finding the normalized median\n",
    "    m2b_flat_norm_med = np.median(m2b_sub_norm, axis=0)\n",
    "    m1r_flat_norm_med = np.median(m1r_sub_norm, axis=0)\n",
    "    m2r_flat_norm_med = np.median(m2r_sub_norm, axis=0)\n",
    "    \n",
    "    m1b_flat_error = np.sqrt(np.var(m1b_sub_norm, axis=0)) # finding the STD per pixel: sqrt(var)\n",
    "    m2b_flat_error = np.sqrt(np.var(m2b_sub_norm, axis=0))\n",
    "    m1r_flat_error = np.sqrt(np.var(m1r_sub_norm, axis=0))\n",
    "    m2r_flat_error = np.sqrt(np.var(m2r_sub_norm, axis=0))\n",
    "    \n",
    "    norm_median = [m1b_flat_norm_med, m2b_flat_norm_med, m1r_flat_norm_med, m2r_flat_norm_med]\n",
    "    errors = [m1b_flat_error, m2b_flat_error, m1r_flat_error, m2r_flat_error]\n",
    "    \n",
    "    \n",
    "    return(norm_median, errors)"
   ]
  },
  {
   "cell_type": "code",
   "execution_count": 70,
   "metadata": {},
   "outputs": [],
   "source": [
    "def calibrate_data_errors(data_files, calibration_files): # finding the error on the flat field data\n",
    "    lamp, flat, bias = categorize_calibration(calibration_files)\n",
    "    bias_m1b, bias_m2b, bias_m1r, bias_m2r = categorize_bias_median(bias)\n",
    "    flat_m1b, flat_m2b, flat_m1r, flat_m2r = categorize_flat_median(flat, bias_m1b, bias_m2b, bias_m1r, bias_m2r)\n",
    "    norm_med, errors = flat_errors_calc(flat, bias_m1b, bias_m2b, bias_m1r, bias_m2r)\n",
    "    \n",
    "    return(norm_med, errors) # returns normalized, bias subtracted median flat frames and associated errors\n",
    "    "
   ]
  },
  {
   "cell_type": "code",
   "execution_count": 71,
   "metadata": {},
   "outputs": [],
   "source": [
    "norm_med, flat_error = calibrate_data_errors(data_files, calibration_files)"
   ]
  },
  {
   "cell_type": "code",
   "execution_count": 74,
   "metadata": {},
   "outputs": [
    {
     "data": {
      "text/plain": [
       "<ErrorbarContainer object of 3 artists>"
      ]
     },
     "execution_count": 74,
     "metadata": {},
     "output_type": "execute_result"
    },
    {
     "data": {
      "image/png": "[encoded data removed]",
      "text/plain": [
       "<Figure size 1080x648 with 1 Axes>"
      ]
     },
     "metadata": {
      "needs_background": "light"
     },
     "output_type": "display_data"
    }
   ],
   "source": [
    "# sample plot showing normalized flat field data with associated errors\n",
    "\n",
    "xs = range(0, len(norm_med[0][0]), 1)\n",
    "\n",
    "plt.figure(figsize=(15,9))\n",
    "plt.errorbar(xs[1900:2000],norm_med[0][100][1900:2000], yerr = flat_error[0][100][1900:2000], linestyle=\"None\", markersize=1, ecolor = \"red\", marker='s', mfc='red',\n",
    "         mec='green', ms=5, mew=5)"
   ]
  },
  {
   "cell_type": "code",
   "execution_count": null,
   "metadata": {},
   "outputs": [],
   "source": []
  }
 ],
 "metadata": {
  "kernelspec": {
   "display_name": "Python 3",
   "language": "python",
   "name": "python3"
  },
  "language_info": {
   "codemirror_mode": {
    "name": "ipython",
    "version": 3
   },
   "file_extension": ".py",
   "mimetype": "text/x-python",
   "name": "python",
   "nbconvert_exporter": "python",
   "pygments_lexer": "ipython3",
   "version": "3.6.0"
  }
 },
 "nbformat": 4,
 "nbformat_minor": 4
}
